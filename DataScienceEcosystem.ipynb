{
 "cells": [
  {
   "cell_type": "markdown",
   "id": "31f54449",
   "metadata": {},
   "source": [
    "# Data Science Tools and Ecosystem"
   ]
  },
  {
   "cell_type": "markdown",
   "id": "6f837838",
   "metadata": {},
   "source": [
    "In this notebook, Data Science Tools and Ecosystem are summarized"
   ]
  },
  {
   "cell_type": "markdown",
   "id": "8fb0c2b3",
   "metadata": {},
   "source": [
    "Some of the popular languanges that Data Scientist use are:\n",
    "- Python\n",
    "- R\n",
    "- Java\n",
    "- Scala"
   ]
  },
  {
   "cell_type": "markdown",
   "id": "3eb7d9e3",
   "metadata": {},
   "source": [
    "Some of the commonly used libraries used by Data Scientist include:\n",
    "- Pandas\n",
    "- Numpy\n",
    "- Scikit-learn\n",
    "- Matplotlib\n",
    "- Seaborn\n",
    "- Tensorflow"
   ]
  },
  {
   "cell_type": "markdown",
   "id": "c30aaca7",
   "metadata": {},
   "source": [
    "|Data Science Tools|\n",
    "|:----------------:|\n",
    "|MySQL|\n",
    "|PostgreSQL|\n",
    "|Jupyter Notebooks|\n",
    "|RStudio|\n",
    "|Tableau|\n",
    "|IBM Watson Studio|\n",
    "|AWS Cloud|\n"
   ]
  },
  {
   "cell_type": "markdown",
   "id": "66f82697",
   "metadata": {},
   "source": [
    "|Data Science Tools|\n",
    "|:----------------:|\n",
    "|MySQL|\n",
    "|PostgreSQL|\n",
    "|Jupyter Notebooks|\n",
    "|RStudio|\n",
    "|Tableau|\n",
    "|IBM Watson Studio|\n",
    "|AWS Cloud|"
   ]
  },
  {
   "cell_type": "markdown",
   "id": "ce98470f",
   "metadata": {},
   "source": [
    "### Below are a few examples of evaluating arithmetic expressions in Python"
   ]
  },
  {
   "cell_type": "code",
   "execution_count": 4,
   "id": "03aca2f2",
   "metadata": {},
   "outputs": [
    {
     "data": {
      "text/plain": [
       "17"
      ]
     },
     "execution_count": 4,
     "metadata": {},
     "output_type": "execute_result"
    }
   ],
   "source": [
    "(3*4)+5 #This is a simple arithmetic expression to multiply then add integers"
   ]
  },
  {
   "cell_type": "code",
   "execution_count": 5,
   "id": "fb94231a",
   "metadata": {},
   "outputs": [
    {
     "data": {
      "text/plain": [
       "3.3333333333333335"
      ]
     },
     "execution_count": 5,
     "metadata": {},
     "output_type": "execute_result"
    }
   ],
   "source": [
    "#Convert minutes to hours\n",
    "200/60 #This will convert 200 minutes to hours by dividing by 60"
   ]
  },
  {
   "cell_type": "markdown",
   "id": "35a3b7d1",
   "metadata": {},
   "source": [
    "**Objectives:**\n",
    "- Ability to create markdown in many styles of Headings\n",
    "- Ability to create markdown list or unordered list (bullets)\n",
    "- Ability to create markdown tables\n",
    "- Ability to create markdown in bold text\n",
    "- Ability to create arithmetic expressions"
   ]
  },
  {
   "cell_type": "markdown",
   "id": "6fa86b35",
   "metadata": {},
   "source": [
    "## Author\n",
    "Aisah"
   ]
  },
  {
   "cell_type": "markdown",
   "id": "1e4ef5c2",
   "metadata": {},
   "source": [
    "## Author\n",
    "Aisah"
   ]
  }
 ],
 "metadata": {
  "kernelspec": {
   "display_name": "Python 3 (ipykernel)",
   "language": "python",
   "name": "python3"
  },
  "language_info": {
   "codemirror_mode": {
    "name": "ipython",
    "version": 3
   },
   "file_extension": ".py",
   "mimetype": "text/x-python",
   "name": "python",
   "nbconvert_exporter": "python",
   "pygments_lexer": "ipython3",
   "version": "3.9.13"
  }
 },
 "nbformat": 4,
 "nbformat_minor": 5
}
